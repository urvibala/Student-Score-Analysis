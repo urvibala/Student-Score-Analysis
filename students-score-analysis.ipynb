{
 "cells": [
  {
   "cell_type": "code",
   "execution_count": 1,
   "id": "23d2952c",
   "metadata": {
    "_cell_guid": "b1076dfc-b9ad-4769-8c92-a6c4dae69d19",
    "_uuid": "8f2839f25d086af736a60e9eeb907d3b93b6e0e5",
    "execution": {
     "iopub.execute_input": "2024-03-28T06:09:58.484102Z",
     "iopub.status.busy": "2024-03-28T06:09:58.483123Z",
     "iopub.status.idle": "2024-03-28T06:10:01.104096Z",
     "shell.execute_reply": "2024-03-28T06:10:01.102730Z"
    },
    "papermill": {
     "duration": 2.636134,
     "end_time": "2024-03-28T06:10:01.107602",
     "exception": false,
     "start_time": "2024-03-28T06:09:58.471468",
     "status": "completed"
    },
    "tags": []
   },
   "outputs": [],
   "source": [
    "import pandas as pd\n",
    "import matplotlib.pyplot as plt\n",
    "import seaborn as sns"
   ]
  },
  {
   "cell_type": "code",
   "execution_count": 2,
   "id": "308f4b21",
   "metadata": {
    "execution": {
     "iopub.execute_input": "2024-03-28T06:10:01.127767Z",
     "iopub.status.busy": "2024-03-28T06:10:01.126737Z",
     "iopub.status.idle": "2024-03-28T06:10:01.391088Z",
     "shell.execute_reply": "2024-03-28T06:10:01.389457Z"
    },
    "papermill": {
     "duration": 0.278435,
     "end_time": "2024-03-28T06:10:01.395040",
     "exception": false,
     "start_time": "2024-03-28T06:10:01.116605",
     "status": "completed"
    },
    "tags": []
   },
   "outputs": [],
   "source": [
    "df_original = pd.read_csv('/kaggle/input/students-exam-scores/Original_data_with_more_rows.csv')\n",
    "df_expanded = pd.read_csv('/kaggle/input/students-exam-scores/Expanded_data_with_more_features.csv')"
   ]
  },
  {
   "cell_type": "code",
   "execution_count": 3,
   "id": "ea3dd895",
   "metadata": {
    "execution": {
     "iopub.execute_input": "2024-03-28T06:10:01.415923Z",
     "iopub.status.busy": "2024-03-28T06:10:01.415036Z",
     "iopub.status.idle": "2024-03-28T06:10:01.450532Z",
     "shell.execute_reply": "2024-03-28T06:10:01.449314Z"
    },
    "papermill": {
     "duration": 0.049123,
     "end_time": "2024-03-28T06:10:01.453720",
     "exception": false,
     "start_time": "2024-03-28T06:10:01.404597",
     "status": "completed"
    },
    "tags": []
   },
   "outputs": [
    {
     "data": {
      "text/html": [
       "<div>\n",
       "<style scoped>\n",
       "    .dataframe tbody tr th:only-of-type {\n",
       "        vertical-align: middle;\n",
       "    }\n",
       "\n",
       "    .dataframe tbody tr th {\n",
       "        vertical-align: top;\n",
       "    }\n",
       "\n",
       "    .dataframe thead th {\n",
       "        text-align: right;\n",
       "    }\n",
       "</style>\n",
       "<table border=\"1\" class=\"dataframe\">\n",
       "  <thead>\n",
       "    <tr style=\"text-align: right;\">\n",
       "      <th></th>\n",
       "      <th>Unnamed: 0</th>\n",
       "      <th>Gender</th>\n",
       "      <th>EthnicGroup</th>\n",
       "      <th>ParentEduc</th>\n",
       "      <th>LunchType</th>\n",
       "      <th>TestPrep</th>\n",
       "      <th>ParentMaritalStatus</th>\n",
       "      <th>PracticeSport</th>\n",
       "      <th>IsFirstChild</th>\n",
       "      <th>NrSiblings</th>\n",
       "      <th>TransportMeans</th>\n",
       "      <th>WklyStudyHours</th>\n",
       "      <th>MathScore</th>\n",
       "      <th>ReadingScore</th>\n",
       "      <th>WritingScore</th>\n",
       "    </tr>\n",
       "  </thead>\n",
       "  <tbody>\n",
       "    <tr>\n",
       "      <th>0</th>\n",
       "      <td>0</td>\n",
       "      <td>female</td>\n",
       "      <td>NaN</td>\n",
       "      <td>bachelor's degree</td>\n",
       "      <td>standard</td>\n",
       "      <td>none</td>\n",
       "      <td>married</td>\n",
       "      <td>regularly</td>\n",
       "      <td>yes</td>\n",
       "      <td>3.0</td>\n",
       "      <td>school_bus</td>\n",
       "      <td>&lt; 5</td>\n",
       "      <td>71</td>\n",
       "      <td>71</td>\n",
       "      <td>74</td>\n",
       "    </tr>\n",
       "    <tr>\n",
       "      <th>1</th>\n",
       "      <td>1</td>\n",
       "      <td>female</td>\n",
       "      <td>group C</td>\n",
       "      <td>some college</td>\n",
       "      <td>standard</td>\n",
       "      <td>NaN</td>\n",
       "      <td>married</td>\n",
       "      <td>sometimes</td>\n",
       "      <td>yes</td>\n",
       "      <td>0.0</td>\n",
       "      <td>NaN</td>\n",
       "      <td>5 - 10</td>\n",
       "      <td>69</td>\n",
       "      <td>90</td>\n",
       "      <td>88</td>\n",
       "    </tr>\n",
       "    <tr>\n",
       "      <th>2</th>\n",
       "      <td>2</td>\n",
       "      <td>female</td>\n",
       "      <td>group B</td>\n",
       "      <td>master's degree</td>\n",
       "      <td>standard</td>\n",
       "      <td>none</td>\n",
       "      <td>single</td>\n",
       "      <td>sometimes</td>\n",
       "      <td>yes</td>\n",
       "      <td>4.0</td>\n",
       "      <td>school_bus</td>\n",
       "      <td>&lt; 5</td>\n",
       "      <td>87</td>\n",
       "      <td>93</td>\n",
       "      <td>91</td>\n",
       "    </tr>\n",
       "    <tr>\n",
       "      <th>3</th>\n",
       "      <td>3</td>\n",
       "      <td>male</td>\n",
       "      <td>group A</td>\n",
       "      <td>associate's degree</td>\n",
       "      <td>free/reduced</td>\n",
       "      <td>none</td>\n",
       "      <td>married</td>\n",
       "      <td>never</td>\n",
       "      <td>no</td>\n",
       "      <td>1.0</td>\n",
       "      <td>NaN</td>\n",
       "      <td>5 - 10</td>\n",
       "      <td>45</td>\n",
       "      <td>56</td>\n",
       "      <td>42</td>\n",
       "    </tr>\n",
       "    <tr>\n",
       "      <th>4</th>\n",
       "      <td>4</td>\n",
       "      <td>male</td>\n",
       "      <td>group C</td>\n",
       "      <td>some college</td>\n",
       "      <td>standard</td>\n",
       "      <td>none</td>\n",
       "      <td>married</td>\n",
       "      <td>sometimes</td>\n",
       "      <td>yes</td>\n",
       "      <td>0.0</td>\n",
       "      <td>school_bus</td>\n",
       "      <td>5 - 10</td>\n",
       "      <td>76</td>\n",
       "      <td>78</td>\n",
       "      <td>75</td>\n",
       "    </tr>\n",
       "    <tr>\n",
       "      <th>5</th>\n",
       "      <td>5</td>\n",
       "      <td>female</td>\n",
       "      <td>group B</td>\n",
       "      <td>associate's degree</td>\n",
       "      <td>standard</td>\n",
       "      <td>none</td>\n",
       "      <td>married</td>\n",
       "      <td>regularly</td>\n",
       "      <td>yes</td>\n",
       "      <td>1.0</td>\n",
       "      <td>school_bus</td>\n",
       "      <td>5 - 10</td>\n",
       "      <td>73</td>\n",
       "      <td>84</td>\n",
       "      <td>79</td>\n",
       "    </tr>\n",
       "    <tr>\n",
       "      <th>6</th>\n",
       "      <td>6</td>\n",
       "      <td>female</td>\n",
       "      <td>group B</td>\n",
       "      <td>some college</td>\n",
       "      <td>standard</td>\n",
       "      <td>completed</td>\n",
       "      <td>widowed</td>\n",
       "      <td>never</td>\n",
       "      <td>no</td>\n",
       "      <td>1.0</td>\n",
       "      <td>private</td>\n",
       "      <td>5 - 10</td>\n",
       "      <td>85</td>\n",
       "      <td>93</td>\n",
       "      <td>89</td>\n",
       "    </tr>\n",
       "    <tr>\n",
       "      <th>7</th>\n",
       "      <td>7</td>\n",
       "      <td>male</td>\n",
       "      <td>group B</td>\n",
       "      <td>some college</td>\n",
       "      <td>free/reduced</td>\n",
       "      <td>none</td>\n",
       "      <td>married</td>\n",
       "      <td>sometimes</td>\n",
       "      <td>yes</td>\n",
       "      <td>1.0</td>\n",
       "      <td>private</td>\n",
       "      <td>&gt; 10</td>\n",
       "      <td>41</td>\n",
       "      <td>43</td>\n",
       "      <td>39</td>\n",
       "    </tr>\n",
       "    <tr>\n",
       "      <th>8</th>\n",
       "      <td>8</td>\n",
       "      <td>male</td>\n",
       "      <td>group D</td>\n",
       "      <td>high school</td>\n",
       "      <td>free/reduced</td>\n",
       "      <td>completed</td>\n",
       "      <td>single</td>\n",
       "      <td>sometimes</td>\n",
       "      <td>no</td>\n",
       "      <td>3.0</td>\n",
       "      <td>private</td>\n",
       "      <td>&gt; 10</td>\n",
       "      <td>65</td>\n",
       "      <td>64</td>\n",
       "      <td>68</td>\n",
       "    </tr>\n",
       "    <tr>\n",
       "      <th>9</th>\n",
       "      <td>9</td>\n",
       "      <td>female</td>\n",
       "      <td>group B</td>\n",
       "      <td>high school</td>\n",
       "      <td>free/reduced</td>\n",
       "      <td>none</td>\n",
       "      <td>married</td>\n",
       "      <td>regularly</td>\n",
       "      <td>yes</td>\n",
       "      <td>NaN</td>\n",
       "      <td>private</td>\n",
       "      <td>&lt; 5</td>\n",
       "      <td>37</td>\n",
       "      <td>59</td>\n",
       "      <td>50</td>\n",
       "    </tr>\n",
       "  </tbody>\n",
       "</table>\n",
       "</div>"
      ],
      "text/plain": [
       "   Unnamed: 0  Gender EthnicGroup          ParentEduc     LunchType  \\\n",
       "0           0  female         NaN   bachelor's degree      standard   \n",
       "1           1  female     group C        some college      standard   \n",
       "2           2  female     group B     master's degree      standard   \n",
       "3           3    male     group A  associate's degree  free/reduced   \n",
       "4           4    male     group C        some college      standard   \n",
       "5           5  female     group B  associate's degree      standard   \n",
       "6           6  female     group B        some college      standard   \n",
       "7           7    male     group B        some college  free/reduced   \n",
       "8           8    male     group D         high school  free/reduced   \n",
       "9           9  female     group B         high school  free/reduced   \n",
       "\n",
       "    TestPrep ParentMaritalStatus PracticeSport IsFirstChild  NrSiblings  \\\n",
       "0       none             married     regularly          yes         3.0   \n",
       "1        NaN             married     sometimes          yes         0.0   \n",
       "2       none              single     sometimes          yes         4.0   \n",
       "3       none             married         never           no         1.0   \n",
       "4       none             married     sometimes          yes         0.0   \n",
       "5       none             married     regularly          yes         1.0   \n",
       "6  completed             widowed         never           no         1.0   \n",
       "7       none             married     sometimes          yes         1.0   \n",
       "8  completed              single     sometimes           no         3.0   \n",
       "9       none             married     regularly          yes         NaN   \n",
       "\n",
       "  TransportMeans WklyStudyHours  MathScore  ReadingScore  WritingScore  \n",
       "0     school_bus            < 5         71            71            74  \n",
       "1            NaN         5 - 10         69            90            88  \n",
       "2     school_bus            < 5         87            93            91  \n",
       "3            NaN         5 - 10         45            56            42  \n",
       "4     school_bus         5 - 10         76            78            75  \n",
       "5     school_bus         5 - 10         73            84            79  \n",
       "6        private         5 - 10         85            93            89  \n",
       "7        private           > 10         41            43            39  \n",
       "8        private           > 10         65            64            68  \n",
       "9        private            < 5         37            59            50  "
      ]
     },
     "execution_count": 3,
     "metadata": {},
     "output_type": "execute_result"
    }
   ],
   "source": [
    "df_expanded.head(10)"
   ]
  },
  {
   "cell_type": "code",
   "execution_count": 4,
   "id": "a1483e3f",
   "metadata": {
    "execution": {
     "iopub.execute_input": "2024-03-28T06:10:01.474177Z",
     "iopub.status.busy": "2024-03-28T06:10:01.473520Z",
     "iopub.status.idle": "2024-03-28T06:10:01.491418Z",
     "shell.execute_reply": "2024-03-28T06:10:01.489935Z"
    },
    "papermill": {
     "duration": 0.031483,
     "end_time": "2024-03-28T06:10:01.494396",
     "exception": false,
     "start_time": "2024-03-28T06:10:01.462913",
     "status": "completed"
    },
    "tags": []
   },
   "outputs": [
    {
     "data": {
      "text/html": [
       "<div>\n",
       "<style scoped>\n",
       "    .dataframe tbody tr th:only-of-type {\n",
       "        vertical-align: middle;\n",
       "    }\n",
       "\n",
       "    .dataframe tbody tr th {\n",
       "        vertical-align: top;\n",
       "    }\n",
       "\n",
       "    .dataframe thead th {\n",
       "        text-align: right;\n",
       "    }\n",
       "</style>\n",
       "<table border=\"1\" class=\"dataframe\">\n",
       "  <thead>\n",
       "    <tr style=\"text-align: right;\">\n",
       "      <th></th>\n",
       "      <th>Unnamed: 0</th>\n",
       "      <th>Gender</th>\n",
       "      <th>EthnicGroup</th>\n",
       "      <th>ParentEduc</th>\n",
       "      <th>LunchType</th>\n",
       "      <th>TestPrep</th>\n",
       "      <th>MathScore</th>\n",
       "      <th>ReadingScore</th>\n",
       "      <th>WritingScore</th>\n",
       "    </tr>\n",
       "  </thead>\n",
       "  <tbody>\n",
       "    <tr>\n",
       "      <th>0</th>\n",
       "      <td>0</td>\n",
       "      <td>female</td>\n",
       "      <td>group B</td>\n",
       "      <td>bachelor's degree</td>\n",
       "      <td>standard</td>\n",
       "      <td>none</td>\n",
       "      <td>72</td>\n",
       "      <td>72</td>\n",
       "      <td>74</td>\n",
       "    </tr>\n",
       "    <tr>\n",
       "      <th>1</th>\n",
       "      <td>1</td>\n",
       "      <td>female</td>\n",
       "      <td>group C</td>\n",
       "      <td>some college</td>\n",
       "      <td>standard</td>\n",
       "      <td>completed</td>\n",
       "      <td>69</td>\n",
       "      <td>90</td>\n",
       "      <td>88</td>\n",
       "    </tr>\n",
       "    <tr>\n",
       "      <th>2</th>\n",
       "      <td>2</td>\n",
       "      <td>female</td>\n",
       "      <td>group B</td>\n",
       "      <td>master's degree</td>\n",
       "      <td>standard</td>\n",
       "      <td>none</td>\n",
       "      <td>90</td>\n",
       "      <td>95</td>\n",
       "      <td>93</td>\n",
       "    </tr>\n",
       "    <tr>\n",
       "      <th>3</th>\n",
       "      <td>3</td>\n",
       "      <td>male</td>\n",
       "      <td>group A</td>\n",
       "      <td>associate's degree</td>\n",
       "      <td>free/reduced</td>\n",
       "      <td>none</td>\n",
       "      <td>47</td>\n",
       "      <td>57</td>\n",
       "      <td>44</td>\n",
       "    </tr>\n",
       "    <tr>\n",
       "      <th>4</th>\n",
       "      <td>4</td>\n",
       "      <td>male</td>\n",
       "      <td>group C</td>\n",
       "      <td>some college</td>\n",
       "      <td>standard</td>\n",
       "      <td>none</td>\n",
       "      <td>76</td>\n",
       "      <td>78</td>\n",
       "      <td>75</td>\n",
       "    </tr>\n",
       "    <tr>\n",
       "      <th>5</th>\n",
       "      <td>5</td>\n",
       "      <td>female</td>\n",
       "      <td>group B</td>\n",
       "      <td>associate's degree</td>\n",
       "      <td>standard</td>\n",
       "      <td>none</td>\n",
       "      <td>71</td>\n",
       "      <td>83</td>\n",
       "      <td>78</td>\n",
       "    </tr>\n",
       "    <tr>\n",
       "      <th>6</th>\n",
       "      <td>6</td>\n",
       "      <td>female</td>\n",
       "      <td>group B</td>\n",
       "      <td>some college</td>\n",
       "      <td>standard</td>\n",
       "      <td>completed</td>\n",
       "      <td>88</td>\n",
       "      <td>95</td>\n",
       "      <td>92</td>\n",
       "    </tr>\n",
       "    <tr>\n",
       "      <th>7</th>\n",
       "      <td>7</td>\n",
       "      <td>male</td>\n",
       "      <td>group B</td>\n",
       "      <td>some college</td>\n",
       "      <td>free/reduced</td>\n",
       "      <td>none</td>\n",
       "      <td>40</td>\n",
       "      <td>43</td>\n",
       "      <td>39</td>\n",
       "    </tr>\n",
       "    <tr>\n",
       "      <th>8</th>\n",
       "      <td>8</td>\n",
       "      <td>male</td>\n",
       "      <td>group D</td>\n",
       "      <td>high school</td>\n",
       "      <td>free/reduced</td>\n",
       "      <td>completed</td>\n",
       "      <td>64</td>\n",
       "      <td>64</td>\n",
       "      <td>67</td>\n",
       "    </tr>\n",
       "    <tr>\n",
       "      <th>9</th>\n",
       "      <td>9</td>\n",
       "      <td>female</td>\n",
       "      <td>group B</td>\n",
       "      <td>high school</td>\n",
       "      <td>free/reduced</td>\n",
       "      <td>none</td>\n",
       "      <td>38</td>\n",
       "      <td>60</td>\n",
       "      <td>50</td>\n",
       "    </tr>\n",
       "  </tbody>\n",
       "</table>\n",
       "</div>"
      ],
      "text/plain": [
       "   Unnamed: 0  Gender EthnicGroup          ParentEduc     LunchType  \\\n",
       "0           0  female     group B   bachelor's degree      standard   \n",
       "1           1  female     group C        some college      standard   \n",
       "2           2  female     group B     master's degree      standard   \n",
       "3           3    male     group A  associate's degree  free/reduced   \n",
       "4           4    male     group C        some college      standard   \n",
       "5           5  female     group B  associate's degree      standard   \n",
       "6           6  female     group B        some college      standard   \n",
       "7           7    male     group B        some college  free/reduced   \n",
       "8           8    male     group D         high school  free/reduced   \n",
       "9           9  female     group B         high school  free/reduced   \n",
       "\n",
       "    TestPrep  MathScore  ReadingScore  WritingScore  \n",
       "0       none         72            72            74  \n",
       "1  completed         69            90            88  \n",
       "2       none         90            95            93  \n",
       "3       none         47            57            44  \n",
       "4       none         76            78            75  \n",
       "5       none         71            83            78  \n",
       "6  completed         88            95            92  \n",
       "7       none         40            43            39  \n",
       "8  completed         64            64            67  \n",
       "9       none         38            60            50  "
      ]
     },
     "execution_count": 4,
     "metadata": {},
     "output_type": "execute_result"
    }
   ],
   "source": [
    "df_original.head(10)"
   ]
  },
  {
   "cell_type": "code",
   "execution_count": 5,
   "id": "ba9b3fe0",
   "metadata": {
    "execution": {
     "iopub.execute_input": "2024-03-28T06:10:01.516060Z",
     "iopub.status.busy": "2024-03-28T06:10:01.515553Z",
     "iopub.status.idle": "2024-03-28T06:10:01.556361Z",
     "shell.execute_reply": "2024-03-28T06:10:01.555091Z"
    },
    "papermill": {
     "duration": 0.055461,
     "end_time": "2024-03-28T06:10:01.559440",
     "exception": false,
     "start_time": "2024-03-28T06:10:01.503979",
     "status": "completed"
    },
    "tags": []
   },
   "outputs": [
    {
     "data": {
      "text/html": [
       "<div>\n",
       "<style scoped>\n",
       "    .dataframe tbody tr th:only-of-type {\n",
       "        vertical-align: middle;\n",
       "    }\n",
       "\n",
       "    .dataframe tbody tr th {\n",
       "        vertical-align: top;\n",
       "    }\n",
       "\n",
       "    .dataframe thead th {\n",
       "        text-align: right;\n",
       "    }\n",
       "</style>\n",
       "<table border=\"1\" class=\"dataframe\">\n",
       "  <thead>\n",
       "    <tr style=\"text-align: right;\">\n",
       "      <th></th>\n",
       "      <th>Unnamed: 0</th>\n",
       "      <th>NrSiblings</th>\n",
       "      <th>MathScore</th>\n",
       "      <th>ReadingScore</th>\n",
       "      <th>WritingScore</th>\n",
       "    </tr>\n",
       "  </thead>\n",
       "  <tbody>\n",
       "    <tr>\n",
       "      <th>count</th>\n",
       "      <td>30641.000000</td>\n",
       "      <td>29069.000000</td>\n",
       "      <td>30641.000000</td>\n",
       "      <td>30641.000000</td>\n",
       "      <td>30641.000000</td>\n",
       "    </tr>\n",
       "    <tr>\n",
       "      <th>mean</th>\n",
       "      <td>499.556607</td>\n",
       "      <td>2.145894</td>\n",
       "      <td>66.558402</td>\n",
       "      <td>69.377533</td>\n",
       "      <td>68.418622</td>\n",
       "    </tr>\n",
       "    <tr>\n",
       "      <th>std</th>\n",
       "      <td>288.747894</td>\n",
       "      <td>1.458242</td>\n",
       "      <td>15.361616</td>\n",
       "      <td>14.758952</td>\n",
       "      <td>15.443525</td>\n",
       "    </tr>\n",
       "    <tr>\n",
       "      <th>min</th>\n",
       "      <td>0.000000</td>\n",
       "      <td>0.000000</td>\n",
       "      <td>0.000000</td>\n",
       "      <td>10.000000</td>\n",
       "      <td>4.000000</td>\n",
       "    </tr>\n",
       "    <tr>\n",
       "      <th>25%</th>\n",
       "      <td>249.000000</td>\n",
       "      <td>1.000000</td>\n",
       "      <td>56.000000</td>\n",
       "      <td>59.000000</td>\n",
       "      <td>58.000000</td>\n",
       "    </tr>\n",
       "    <tr>\n",
       "      <th>50%</th>\n",
       "      <td>500.000000</td>\n",
       "      <td>2.000000</td>\n",
       "      <td>67.000000</td>\n",
       "      <td>70.000000</td>\n",
       "      <td>69.000000</td>\n",
       "    </tr>\n",
       "    <tr>\n",
       "      <th>75%</th>\n",
       "      <td>750.000000</td>\n",
       "      <td>3.000000</td>\n",
       "      <td>78.000000</td>\n",
       "      <td>80.000000</td>\n",
       "      <td>79.000000</td>\n",
       "    </tr>\n",
       "    <tr>\n",
       "      <th>max</th>\n",
       "      <td>999.000000</td>\n",
       "      <td>7.000000</td>\n",
       "      <td>100.000000</td>\n",
       "      <td>100.000000</td>\n",
       "      <td>100.000000</td>\n",
       "    </tr>\n",
       "  </tbody>\n",
       "</table>\n",
       "</div>"
      ],
      "text/plain": [
       "         Unnamed: 0    NrSiblings     MathScore  ReadingScore  WritingScore\n",
       "count  30641.000000  29069.000000  30641.000000  30641.000000  30641.000000\n",
       "mean     499.556607      2.145894     66.558402     69.377533     68.418622\n",
       "std      288.747894      1.458242     15.361616     14.758952     15.443525\n",
       "min        0.000000      0.000000      0.000000     10.000000      4.000000\n",
       "25%      249.000000      1.000000     56.000000     59.000000     58.000000\n",
       "50%      500.000000      2.000000     67.000000     70.000000     69.000000\n",
       "75%      750.000000      3.000000     78.000000     80.000000     79.000000\n",
       "max      999.000000      7.000000    100.000000    100.000000    100.000000"
      ]
     },
     "execution_count": 5,
     "metadata": {},
     "output_type": "execute_result"
    }
   ],
   "source": [
    "df_expanded.describe()"
   ]
  },
  {
   "cell_type": "code",
   "execution_count": 6,
   "id": "d0d77b08",
   "metadata": {
    "execution": {
     "iopub.execute_input": "2024-03-28T06:10:01.582958Z",
     "iopub.status.busy": "2024-03-28T06:10:01.581763Z",
     "iopub.status.idle": "2024-03-28T06:10:01.643325Z",
     "shell.execute_reply": "2024-03-28T06:10:01.641953Z"
    },
    "papermill": {
     "duration": 0.075962,
     "end_time": "2024-03-28T06:10:01.646060",
     "exception": false,
     "start_time": "2024-03-28T06:10:01.570098",
     "status": "completed"
    },
    "tags": []
   },
   "outputs": [
    {
     "name": "stdout",
     "output_type": "stream",
     "text": [
      "<class 'pandas.core.frame.DataFrame'>\n",
      "RangeIndex: 30641 entries, 0 to 30640\n",
      "Data columns (total 15 columns):\n",
      " #   Column               Non-Null Count  Dtype  \n",
      "---  ------               --------------  -----  \n",
      " 0   Unnamed: 0           30641 non-null  int64  \n",
      " 1   Gender               30641 non-null  object \n",
      " 2   EthnicGroup          28801 non-null  object \n",
      " 3   ParentEduc           28796 non-null  object \n",
      " 4   LunchType            30641 non-null  object \n",
      " 5   TestPrep             28811 non-null  object \n",
      " 6   ParentMaritalStatus  29451 non-null  object \n",
      " 7   PracticeSport        30010 non-null  object \n",
      " 8   IsFirstChild         29737 non-null  object \n",
      " 9   NrSiblings           29069 non-null  float64\n",
      " 10  TransportMeans       27507 non-null  object \n",
      " 11  WklyStudyHours       29686 non-null  object \n",
      " 12  MathScore            30641 non-null  int64  \n",
      " 13  ReadingScore         30641 non-null  int64  \n",
      " 14  WritingScore         30641 non-null  int64  \n",
      "dtypes: float64(1), int64(4), object(10)\n",
      "memory usage: 3.5+ MB\n"
     ]
    }
   ],
   "source": [
    "df_expanded.info()"
   ]
  },
  {
   "cell_type": "code",
   "execution_count": 7,
   "id": "edd065be",
   "metadata": {
    "execution": {
     "iopub.execute_input": "2024-03-28T06:10:01.668349Z",
     "iopub.status.busy": "2024-03-28T06:10:01.667849Z",
     "iopub.status.idle": "2024-03-28T06:10:01.712399Z",
     "shell.execute_reply": "2024-03-28T06:10:01.711044Z"
    },
    "papermill": {
     "duration": 0.060046,
     "end_time": "2024-03-28T06:10:01.716081",
     "exception": false,
     "start_time": "2024-03-28T06:10:01.656035",
     "status": "completed"
    },
    "tags": []
   },
   "outputs": [
    {
     "data": {
      "text/plain": [
       "Unnamed: 0                0\n",
       "Gender                    0\n",
       "EthnicGroup            1840\n",
       "ParentEduc             1845\n",
       "LunchType                 0\n",
       "TestPrep               1830\n",
       "ParentMaritalStatus    1190\n",
       "PracticeSport           631\n",
       "IsFirstChild            904\n",
       "NrSiblings             1572\n",
       "TransportMeans         3134\n",
       "WklyStudyHours          955\n",
       "MathScore                 0\n",
       "ReadingScore              0\n",
       "WritingScore              0\n",
       "dtype: int64"
      ]
     },
     "execution_count": 7,
     "metadata": {},
     "output_type": "execute_result"
    }
   ],
   "source": [
    "df_expanded.isnull().sum()"
   ]
  },
  {
   "cell_type": "markdown",
   "id": "d29acb62",
   "metadata": {
    "papermill": {
     "duration": 0.010564,
     "end_time": "2024-03-28T06:10:01.737643",
     "exception": false,
     "start_time": "2024-03-28T06:10:01.727079",
     "status": "completed"
    },
    "tags": []
   },
   "source": [
    "# ****Drop Unnamed Column****"
   ]
  },
  {
   "cell_type": "code",
   "execution_count": 8,
   "id": "6a6a24d2",
   "metadata": {
    "execution": {
     "iopub.execute_input": "2024-03-28T06:10:01.761571Z",
     "iopub.status.busy": "2024-03-28T06:10:01.761078Z",
     "iopub.status.idle": "2024-03-28T06:10:01.776189Z",
     "shell.execute_reply": "2024-03-28T06:10:01.774696Z"
    },
    "papermill": {
     "duration": 0.031102,
     "end_time": "2024-03-28T06:10:01.779623",
     "exception": false,
     "start_time": "2024-03-28T06:10:01.748521",
     "status": "completed"
    },
    "tags": []
   },
   "outputs": [],
   "source": [
    "df_expanded = df_expanded.drop('Unnamed: 0', axis=1)"
   ]
  },
  {
   "cell_type": "markdown",
   "id": "d15c9415",
   "metadata": {
    "papermill": {
     "duration": 0.010176,
     "end_time": "2024-03-28T06:10:01.801276",
     "exception": false,
     "start_time": "2024-03-28T06:10:01.791100",
     "status": "completed"
    },
    "tags": []
   },
   "source": [
    "# **Gender Distribution**"
   ]
  },
  {
   "cell_type": "code",
   "execution_count": 9,
   "id": "496b43cf",
   "metadata": {
    "execution": {
     "iopub.execute_input": "2024-03-28T06:10:01.825002Z",
     "iopub.status.busy": "2024-03-28T06:10:01.823842Z",
     "iopub.status.idle": "2024-03-28T06:10:02.286301Z",
     "shell.execute_reply": "2024-03-28T06:10:02.285315Z"
    },
    "papermill": {
     "duration": 0.477263,
     "end_time": "2024-03-28T06:10:02.288750",
     "exception": false,
     "start_time": "2024-03-28T06:10:01.811487",
     "status": "completed"
    },
    "tags": []
   },
   "outputs": [
    {
     "data": {
      "image/png": "[encoded data removed]",
      "text/plain": [
       "<Figure size 1000x600 with 1 Axes>"
      ]
     },
     "metadata": {},
     "output_type": "display_data"
    }
   ],
   "source": [
    "plt.figure(figsize=(10,6))\n",
    "ax = sns.countplot(data=df_expanded, x='Gender')\n",
    "ax.bar_label(ax.containers[0])\n",
    "plt.show()"
   ]
  },
  {
   "cell_type": "markdown",
   "id": "e7549ec0",
   "metadata": {
    "papermill": {
     "duration": 0.010127,
     "end_time": "2024-03-28T06:10:02.310197",
     "exception": false,
     "start_time": "2024-03-28T06:10:02.300070",
     "status": "completed"
    },
    "tags": []
   },
   "source": [
    "# From the above chart we can see that number of females are more than male"
   ]
  },
  {
   "cell_type": "markdown",
   "id": "81267801",
   "metadata": {
    "papermill": {
     "duration": 0.010237,
     "end_time": "2024-03-28T06:10:02.330546",
     "exception": false,
     "start_time": "2024-03-28T06:10:02.320309",
     "status": "completed"
    },
    "tags": []
   },
   "source": [
    "# **Is Parents Education background Affecting Students Score ?**"
   ]
  },
  {
   "cell_type": "code",
   "execution_count": 10,
   "id": "d99d5186",
   "metadata": {
    "execution": {
     "iopub.execute_input": "2024-03-28T06:10:02.354194Z",
     "iopub.status.busy": "2024-03-28T06:10:02.353503Z",
     "iopub.status.idle": "2024-03-28T06:10:02.377230Z",
     "shell.execute_reply": "2024-03-28T06:10:02.375080Z"
    },
    "papermill": {
     "duration": 0.039134,
     "end_time": "2024-03-28T06:10:02.380435",
     "exception": false,
     "start_time": "2024-03-28T06:10:02.341301",
     "status": "completed"
    },
    "tags": []
   },
   "outputs": [
    {
     "name": "stdout",
     "output_type": "stream",
     "text": [
      "                    MathScore  ReadingScore  WritingScore\n",
      "ParentEduc                                               \n",
      "associate's degree  68.365586     71.124324     70.299099\n",
      "bachelor's degree   70.466627     73.062020     73.331069\n",
      "high school         64.435731     67.213997     65.421136\n",
      "master's degree     72.336134     75.832921     76.356896\n",
      "some college        66.390472     69.179708     68.501432\n",
      "some high school    62.584013     65.510785     63.632409\n"
     ]
    }
   ],
   "source": [
    "parentsEd_vs_studentsScore = df_expanded.groupby('ParentEduc').agg({'MathScore':'mean', 'ReadingScore':'mean', 'WritingScore':'mean'})\n",
    "print(parentsEd_vs_studentsScore)"
   ]
  },
  {
   "cell_type": "code",
   "execution_count": 11,
   "id": "06dbe98e",
   "metadata": {
    "execution": {
     "iopub.execute_input": "2024-03-28T06:10:02.404389Z",
     "iopub.status.busy": "2024-03-28T06:10:02.403905Z",
     "iopub.status.idle": "2024-03-28T06:10:02.798603Z",
     "shell.execute_reply": "2024-03-28T06:10:02.797126Z"
    },
    "papermill": {
     "duration": 0.410717,
     "end_time": "2024-03-28T06:10:02.801341",
     "exception": false,
     "start_time": "2024-03-28T06:10:02.390624",
     "status": "completed"
    },
    "tags": []
   },
   "outputs": [
    {
     "data": {
      "image/png": "[encoded data removed]",
      "text/plain": [
       "<Figure size 500x500 with 2 Axes>"
      ]
     },
     "metadata": {},
     "output_type": "display_data"
    }
   ],
   "source": [
    "plt.figure(figsize=(5,5))\n",
    "sns.heatmap(parentsEd_vs_studentsScore, annot=True)\n",
    "plt.show()"
   ]
  },
  {
   "cell_type": "markdown",
   "id": "6bf70090",
   "metadata": {
    "papermill": {
     "duration": 0.010416,
     "end_time": "2024-03-28T06:10:02.822684",
     "exception": false,
     "start_time": "2024-03-28T06:10:02.812268",
     "status": "completed"
    },
    "tags": []
   },
   "source": [
    "# Student who have Parents with higher education have good Score comparitively"
   ]
  },
  {
   "cell_type": "markdown",
   "id": "a75fbe0a",
   "metadata": {
    "papermill": {
     "duration": 0.010533,
     "end_time": "2024-03-28T06:10:02.843906",
     "exception": false,
     "start_time": "2024-03-28T06:10:02.833373",
     "status": "completed"
    },
    "tags": []
   },
   "source": [
    "# **Is Parents marital status affecting Students score?**"
   ]
  },
  {
   "cell_type": "code",
   "execution_count": 12,
   "id": "5347be2a",
   "metadata": {
    "execution": {
     "iopub.execute_input": "2024-03-28T06:10:02.867725Z",
     "iopub.status.busy": "2024-03-28T06:10:02.867255Z",
     "iopub.status.idle": "2024-03-28T06:10:02.887737Z",
     "shell.execute_reply": "2024-03-28T06:10:02.886305Z"
    },
    "papermill": {
     "duration": 0.035597,
     "end_time": "2024-03-28T06:10:02.890414",
     "exception": false,
     "start_time": "2024-03-28T06:10:02.854817",
     "status": "completed"
    },
    "tags": []
   },
   "outputs": [
    {
     "name": "stdout",
     "output_type": "stream",
     "text": [
      "                     MathScore  ReadingScore  WritingScore\n",
      "ParentMaritalStatus                                       \n",
      "divorced             66.691197     69.655011     68.799146\n",
      "married              66.657326     69.389575     68.420981\n",
      "single               66.165704     69.157250     68.174440\n",
      "widowed              67.368866     69.651438     68.563452\n"
     ]
    }
   ],
   "source": [
    "parentsMarital_vs_studentsScore = df_expanded.groupby('ParentMaritalStatus').agg({'MathScore':'mean', 'ReadingScore':'mean', 'WritingScore':'mean'})\n",
    "print(parentsMarital_vs_studentsScore)"
   ]
  },
  {
   "cell_type": "code",
   "execution_count": 13,
   "id": "d56414f2",
   "metadata": {
    "execution": {
     "iopub.execute_input": "2024-03-28T06:10:02.914230Z",
     "iopub.status.busy": "2024-03-28T06:10:02.913802Z",
     "iopub.status.idle": "2024-03-28T06:10:03.254587Z",
     "shell.execute_reply": "2024-03-28T06:10:03.253355Z"
    },
    "papermill": {
     "duration": 0.356124,
     "end_time": "2024-03-28T06:10:03.257401",
     "exception": false,
     "start_time": "2024-03-28T06:10:02.901277",
     "status": "completed"
    },
    "tags": []
   },
   "outputs": [
    {
     "data": {
      "image/png": "[encoded data removed]",
      "text/plain": [
       "<Figure size 500x500 with 2 Axes>"
      ]
     },
     "metadata": {},
     "output_type": "display_data"
    }
   ],
   "source": [
    "plt.figure(figsize=(5,5))\n",
    "sns.heatmap(parentsMarital_vs_studentsScore, annot=True)\n",
    "plt.show()"
   ]
  },
  {
   "cell_type": "markdown",
   "id": "3c15f8a4",
   "metadata": {
    "papermill": {
     "duration": 0.011737,
     "end_time": "2024-03-28T06:10:03.281136",
     "exception": false,
     "start_time": "2024-03-28T06:10:03.269399",
     "status": "completed"
    },
    "tags": []
   },
   "source": [
    "# Parent's marital status have negligible impact on students score"
   ]
  },
  {
   "cell_type": "code",
   "execution_count": 14,
   "id": "c699793a",
   "metadata": {
    "execution": {
     "iopub.execute_input": "2024-03-28T06:10:03.307816Z",
     "iopub.status.busy": "2024-03-28T06:10:03.307084Z",
     "iopub.status.idle": "2024-03-28T06:10:03.505647Z",
     "shell.execute_reply": "2024-03-28T06:10:03.504329Z"
    },
    "papermill": {
     "duration": 0.215648,
     "end_time": "2024-03-28T06:10:03.508751",
     "exception": false,
     "start_time": "2024-03-28T06:10:03.293103",
     "status": "completed"
    },
    "tags": []
   },
   "outputs": [
    {
     "data": {
      "image/png": "[encoded data removed]",
      "text/plain": [
       "<Figure size 640x480 with 1 Axes>"
      ]
     },
     "metadata": {},
     "output_type": "display_data"
    }
   ],
   "source": [
    "sns.boxplot(data = df_expanded, x='MathScore')\n",
    "plt.show()"
   ]
  },
  {
   "cell_type": "code",
   "execution_count": 15,
   "id": "953e37c7",
   "metadata": {
    "execution": {
     "iopub.execute_input": "2024-03-28T06:10:03.537301Z",
     "iopub.status.busy": "2024-03-28T06:10:03.536854Z",
     "iopub.status.idle": "2024-03-28T06:10:03.757875Z",
     "shell.execute_reply": "2024-03-28T06:10:03.756699Z"
    },
    "papermill": {
     "duration": 0.238743,
     "end_time": "2024-03-28T06:10:03.761082",
     "exception": false,
     "start_time": "2024-03-28T06:10:03.522339",
     "status": "completed"
    },
    "tags": []
   },
   "outputs": [
    {
     "data": {
      "image/png": "[encoded data removed]",
      "text/plain": [
       "<Figure size 640x480 with 1 Axes>"
      ]
     },
     "metadata": {},
     "output_type": "display_data"
    }
   ],
   "source": [
    "sns.boxplot(data = df_expanded, x='ReadingScore')\n",
    "plt.show()"
   ]
  },
  {
   "cell_type": "code",
   "execution_count": 16,
   "id": "cfdd4423",
   "metadata": {
    "execution": {
     "iopub.execute_input": "2024-03-28T06:10:03.790598Z",
     "iopub.status.busy": "2024-03-28T06:10:03.789270Z",
     "iopub.status.idle": "2024-03-28T06:10:03.993373Z",
     "shell.execute_reply": "2024-03-28T06:10:03.991291Z"
    },
    "papermill": {
     "duration": 0.222888,
     "end_time": "2024-03-28T06:10:03.996397",
     "exception": false,
     "start_time": "2024-03-28T06:10:03.773509",
     "status": "completed"
    },
    "tags": []
   },
   "outputs": [
    {
     "data": {
      "image/png": "[encoded data removed]",
      "text/plain": [
       "<Figure size 640x480 with 1 Axes>"
      ]
     },
     "metadata": {},
     "output_type": "display_data"
    }
   ],
   "source": [
    "sns.boxplot(data = df_expanded, x='WritingScore')\n",
    "plt.show()"
   ]
  },
  {
   "cell_type": "markdown",
   "id": "dab9883d",
   "metadata": {
    "papermill": {
     "duration": 0.012206,
     "end_time": "2024-03-28T06:10:04.021383",
     "exception": false,
     "start_time": "2024-03-28T06:10:04.009177",
     "status": "completed"
    },
    "tags": []
   },
   "source": [
    "# **Distribution Of Ethnic Groups**"
   ]
  },
  {
   "cell_type": "code",
   "execution_count": 17,
   "id": "76f5e8cd",
   "metadata": {
    "execution": {
     "iopub.execute_input": "2024-03-28T06:10:04.049896Z",
     "iopub.status.busy": "2024-03-28T06:10:04.049194Z",
     "iopub.status.idle": "2024-03-28T06:10:04.321125Z",
     "shell.execute_reply": "2024-03-28T06:10:04.319501Z"
    },
    "papermill": {
     "duration": 0.291447,
     "end_time": "2024-03-28T06:10:04.326005",
     "exception": false,
     "start_time": "2024-03-28T06:10:04.034558",
     "status": "completed"
    },
    "tags": []
   },
   "outputs": [
    {
     "data": {
      "image/png": "[encoded data removed]",
      "text/plain": [
       "<Figure size 640x480 with 1 Axes>"
      ]
     },
     "metadata": {},
     "output_type": "display_data"
    }
   ],
   "source": [
    "groupA = df_expanded.loc[(df_expanded['EthnicGroup'] == 'group A')].count()\n",
    "groupB = df_expanded.loc[(df_expanded['EthnicGroup'] == 'group B')].count()\n",
    "groupC = df_expanded.loc[(df_expanded['EthnicGroup'] == 'group C')].count()\n",
    "groupD = df_expanded.loc[(df_expanded['EthnicGroup'] == 'group D')].count()\n",
    "groupE = df_expanded.loc[(df_expanded['EthnicGroup'] == 'group E')].count()\n",
    "\n",
    "l = ['group A', 'group B', 'group C', 'grouop D', 'group E']\n",
    "mlist = [groupA['EthnicGroup'], groupB['EthnicGroup'], groupC['EthnicGroup'], groupD['EthnicGroup'], groupE['EthnicGroup']]\n",
    "plt.title('Distribution of ethnic Groups')\n",
    "plt.pie(mlist, labels = l, autopct = '%1.2f%%')\n",
    "plt.show()"
   ]
  },
  {
   "cell_type": "code",
   "execution_count": 18,
   "id": "a9c17677",
   "metadata": {
    "execution": {
     "iopub.execute_input": "2024-03-28T06:10:04.375020Z",
     "iopub.status.busy": "2024-03-28T06:10:04.374307Z",
     "iopub.status.idle": "2024-03-28T06:10:04.695275Z",
     "shell.execute_reply": "2024-03-28T06:10:04.693968Z"
    },
    "papermill": {
     "duration": 0.343066,
     "end_time": "2024-03-28T06:10:04.698515",
     "exception": false,
     "start_time": "2024-03-28T06:10:04.355449",
     "status": "completed"
    },
    "tags": []
   },
   "outputs": [
    {
     "data": {
      "text/plain": [
       "[Text(0, 0, '9212'),\n",
       " Text(0, 0, '5826'),\n",
       " Text(0, 0, '2219'),\n",
       " Text(0, 0, '7503'),\n",
       " Text(0, 0, '4041')]"
      ]
     },
     "execution_count": 18,
     "metadata": {},
     "output_type": "execute_result"
    },
    {
     "data": {
      "image/png": "[encoded data removed]",
      "text/plain": [
       "<Figure size 640x480 with 1 Axes>"
      ]
     },
     "metadata": {},
     "output_type": "display_data"
    }
   ],
   "source": [
    "ax = sns.countplot(data = df_expanded, x='EthnicGroup')\n",
    "ax.bar_label(ax.containers[0])"
   ]
  }
 ],
 "metadata": {
  "kaggle": {
   "accelerator": "none",
   "dataSources": [
    {
     "datasetId": 3128523,
     "sourceId": 5399169,
     "sourceType": "datasetVersion"
    }
   ],
   "dockerImageVersionId": 30673,
   "isGpuEnabled": false,
   "isInternetEnabled": false,
   "language": "python",
   "sourceType": "notebook"
  },
  "kernelspec": {
   "display_name": "Python 3",
   "language": "python",
   "name": "python3"
  },
  "language_info": {
   "codemirror_mode": {
    "name": "ipython",
    "version": 3
   },
   "file_extension": ".py",
   "mimetype": "text/x-python",
   "name": "python",
   "nbconvert_exporter": "python",
   "pygments_lexer": "ipython3",
   "version": "3.10.13"
  },
  "papermill": {
   "default_parameters": {},
   "duration": 10.46568,
   "end_time": "2024-03-28T06:10:05.537435",
   "environment_variables": {},
   "exception": null,
   "input_path": "__notebook__.ipynb",
   "output_path": "__notebook__.ipynb",
   "parameters": {},
   "start_time": "2024-03-28T06:09:55.071755",
   "version": "2.5.0"
  }
 },
 "nbformat": 4,
 "nbformat_minor": 5
}
